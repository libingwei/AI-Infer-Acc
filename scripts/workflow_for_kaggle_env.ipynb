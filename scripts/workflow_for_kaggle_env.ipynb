{
 "cells": [
  {
   "cell_type": "markdown",
   "metadata": {},
   "source": [
    "# Kaggle 持久化开发环境工作流\n",
    "\n",
    "本 Notebook 结合了 **Kaggle Notebook** 和 **GitHub**，旨在创建一个稳定、可复现且不会因会话中断而丢失工作的开发环境。\n",
    "Kaggle本身支持持久化，开启设置即可，所以我们可以将所有文件保存。\n",
    "但是Kaggle不支持apt安装命令，不能安装C++程序，依赖的TensorRT等库也无法安装，只能通过数据集上传/挂载。\n",
    "\n",
    "**核心思想:**\n",
    "1.  **Kaggle Notebook**: 作为主要的开发环境，运行和查看结果。所有文件都保存在Kaggle的持久化存储中。\n",
    "2.  **GitHub**: 作为我们代码的“版本控制系统”，用于追踪和管理所有代码 (`.py`, `.ipynb`) 和配置文件。\n"
   ]
  },
  {
   "cell_type": "code",
   "execution_count": null,
   "metadata": {
    "_cell_guid": "b1076dfc-b9ad-4769-8c92-a6c4dae69d19",
    "_uuid": "8f2839f25d086af736a60e9eeb907d3b93b6e0e5",
    "execution": {
     "iopub.execute_input": "2025-08-12T04:14:32.114947Z",
     "iopub.status.busy": "2025-08-12T04:14:32.114683Z",
     "iopub.status.idle": "2025-08-12T04:14:32.618846Z",
     "shell.execute_reply": "2025-08-12T04:14:32.618272Z",
     "shell.execute_reply.started": "2025-08-12T04:14:32.114925Z"
    },
    "trusted": true
   },
   "outputs": [],
   "source": [
    "# This Python 3 environment comes with many helpful analytics libraries installed\n",
    "# It is defined by the kaggle/python Docker image: https://github.com/kaggle/docker-python\n",
    "# For example, here's several helpful packages to load\n",
    "\n",
    "import numpy as np # linear algebra\n",
    "import pandas as pd # data processing, CSV file I/O (e.g. pd.read_csv)\n",
    "\n",
    "# Input data files are available in the read-only \"../input/\" directory\n",
    "# For example, running this (by clicking run or pressing Shift+Enter) will list all files under the input directory\n",
    "\n",
    "import os\n",
    "for dirname, _, filenames in os.walk('/kaggle/input'):\n",
    "    for filename in filenames:\n",
    "        print(os.path.join(dirname, filename))\n",
    "\n",
    "# You can write up to 20GB to the current directory (/kaggle/working/) that gets preserved as output when you create a version using \"Save & Run All\" \n",
    "# You can also write temporary files to /kaggle/temp/, but they won't be saved outside of the current session"
   ]
  },
  {
   "cell_type": "code",
   "execution_count": 2,
   "metadata": {
    "execution": {
     "iopub.execute_input": "2025-08-11T07:57:18.706268Z",
     "iopub.status.busy": "2025-08-11T07:57:18.705676Z",
     "iopub.status.idle": "2025-08-11T07:57:18.828105Z",
     "shell.execute_reply": "2025-08-11T07:57:18.827189Z",
     "shell.execute_reply.started": "2025-08-11T07:57:18.706244Z"
    },
    "trusted": true
   },
   "outputs": [],
   "source": [
    "#!rm -rf trt-yolov8-accelerator"
   ]
  },
  {
   "cell_type": "code",
   "execution_count": 3,
   "metadata": {
    "execution": {
     "iopub.execute_input": "2025-08-11T08:01:40.551120Z",
     "iopub.status.busy": "2025-08-11T08:01:40.550802Z",
     "iopub.status.idle": "2025-08-11T08:01:41.625062Z",
     "shell.execute_reply": "2025-08-11T08:01:41.624058Z",
     "shell.execute_reply.started": "2025-08-11T08:01:40.551093Z"
    },
    "trusted": true
   },
   "outputs": [
    {
     "name": "stdout",
     "output_type": "stream",
     "text": [
      "Cloning into 'AI-Infer-Acc'...\n",
      "remote: Enumerating objects: 194, done.\u001b[K\n",
      "remote: Counting objects: 100% (194/194), done.\u001b[K\n",
      "remote: Compressing objects: 100% (109/109), done.\u001b[K\n",
      "remote: Total 194 (delta 93), reused 170 (delta 69), pack-reused 0 (from 0)\u001b[K\n",
      "Receiving objects: 100% (194/194), 78.65 KiB | 1.83 MiB/s, done.\n",
      "Resolving deltas: 100% (93/93), done.\n"
     ]
    }
   ],
   "source": [
    "!git clone https://github.com/libingwei/AI-Infer-Acc.git"
   ]
  },
  {
   "cell_type": "code",
   "execution_count": 2,
   "metadata": {
    "execution": {
     "iopub.execute_input": "2025-08-12T15:09:05.988639Z",
     "iopub.status.busy": "2025-08-12T15:09:05.988077Z",
     "iopub.status.idle": "2025-08-12T15:09:05.994128Z",
     "shell.execute_reply": "2025-08-12T15:09:05.993533Z",
     "shell.execute_reply.started": "2025-08-12T15:09:05.988617Z"
    },
    "trusted": true
   },
   "outputs": [
    {
     "name": "stdout",
     "output_type": "stream",
     "text": [
      "/kaggle/working/AI-Infer-Acc\n"
     ]
    }
   ],
   "source": [
    "cd /kaggle/working/AI-Infer-Acc"
   ]
  },
  {
   "cell_type": "code",
   "execution_count": null,
   "metadata": {
    "execution": {
     "iopub.execute_input": "2025-08-12T15:09:08.517590Z",
     "iopub.status.busy": "2025-08-12T15:09:08.517170Z",
     "iopub.status.idle": "2025-08-12T15:09:09.443497Z",
     "shell.execute_reply": "2025-08-12T15:09:09.442803Z",
     "shell.execute_reply.started": "2025-08-12T15:09:08.517569Z"
    },
    "trusted": true
   },
   "outputs": [],
   "source": [
    "!git fetch\n",
    "!git pull\n",
    "# !git submodule sync"
   ]
  },
  {
   "cell_type": "code",
   "execution_count": null,
   "metadata": {
    "collapsed": true,
    "execution": {
     "iopub.execute_input": "2025-08-11T09:42:36.599709Z",
     "iopub.status.busy": "2025-08-11T09:42:36.599415Z",
     "iopub.status.idle": "2025-08-11T09:42:36.723412Z",
     "shell.execute_reply": "2025-08-11T09:42:36.722571Z",
     "shell.execute_reply.started": "2025-08-11T09:42:36.599681Z"
    },
    "jupyter": {
     "outputs_hidden": true
    },
    "trusted": true
   },
   "outputs": [],
   "source": [
    "!git log"
   ]
  },
  {
   "cell_type": "code",
   "execution_count": 13,
   "metadata": {
    "execution": {
     "iopub.execute_input": "2025-08-12T07:27:13.805761Z",
     "iopub.status.busy": "2025-08-12T07:27:13.805116Z",
     "iopub.status.idle": "2025-08-12T07:27:14.186767Z",
     "shell.execute_reply": "2025-08-12T07:27:14.185945Z",
     "shell.execute_reply.started": "2025-08-12T07:27:13.805726Z"
    },
    "trusted": true
   },
   "outputs": [
    {
     "name": "stdout",
     "output_type": "stream",
     "text": [
      "Submodule path 'projects/trt-yolov8-accelerator': checked out 'a8350b3106fde92c46315314e8cfa7ce24f16cd5'\n"
     ]
    }
   ],
   "source": [
    "!git submodule update --init --recursive\n",
    "!git submodule update"
   ]
  },
  {
   "cell_type": "code",
   "execution_count": 5,
   "metadata": {
    "execution": {
     "iopub.execute_input": "2025-08-12T11:05:38.143301Z",
     "iopub.status.busy": "2025-08-12T11:05:38.143043Z",
     "iopub.status.idle": "2025-08-12T11:05:38.260082Z",
     "shell.execute_reply": "2025-08-12T11:05:38.259198Z",
     "shell.execute_reply.started": "2025-08-12T11:05:38.143278Z"
    },
    "trusted": true
   },
   "outputs": [
    {
     "name": "stdout",
     "output_type": "stream",
     "text": [
      "/kaggle/working/AI-Infer-Acc\n"
     ]
    }
   ],
   "source": [
    "!pwd"
   ]
  },
  {
   "cell_type": "code",
   "execution_count": 8,
   "metadata": {
    "execution": {
     "iopub.execute_input": "2025-08-12T04:18:48.311067Z",
     "iopub.status.busy": "2025-08-12T04:18:48.310785Z",
     "iopub.status.idle": "2025-08-12T04:18:48.714273Z",
     "shell.execute_reply": "2025-08-12T04:18:48.713550Z",
     "shell.execute_reply.started": "2025-08-12T04:18:48.311041Z"
    },
    "trusted": true
   },
   "outputs": [
    {
     "name": "stdout",
     "output_type": "stream",
     "text": [
      "Tue Aug 12 04:18:48 2025       \n",
      "+-----------------------------------------------------------------------------------------+\n",
      "| NVIDIA-SMI 560.35.03              Driver Version: 560.35.03      CUDA Version: 12.6     |\n",
      "|-----------------------------------------+------------------------+----------------------+\n",
      "| GPU  Name                 Persistence-M | Bus-Id          Disp.A | Volatile Uncorr. ECC |\n",
      "| Fan  Temp   Perf          Pwr:Usage/Cap |           Memory-Usage | GPU-Util  Compute M. |\n",
      "|                                         |                        |               MIG M. |\n",
      "|=========================================+========================+======================|\n",
      "|   0  Tesla T4                       Off |   00000000:00:04.0 Off |                    0 |\n",
      "| N/A   42C    P8              9W /   70W |       1MiB /  15360MiB |      0%      Default |\n",
      "|                                         |                        |                  N/A |\n",
      "+-----------------------------------------+------------------------+----------------------+\n",
      "|   1  Tesla T4                       Off |   00000000:00:05.0 Off |                    0 |\n",
      "| N/A   43C    P8              9W /   70W |       1MiB /  15360MiB |      0%      Default |\n",
      "|                                         |                        |                  N/A |\n",
      "+-----------------------------------------+------------------------+----------------------+\n",
      "                                                                                         \n",
      "+-----------------------------------------------------------------------------------------+\n",
      "| Processes:                                                                              |\n",
      "|  GPU   GI   CI        PID   Type   Process name                              GPU Memory |\n",
      "|        ID   ID                                                               Usage      |\n",
      "|=========================================================================================|\n",
      "|  No running processes found                                                             |\n",
      "+-----------------------------------------------------------------------------------------+\n",
      "nvcc: NVIDIA (R) Cuda compiler driver\n",
      "Copyright (c) 2005-2024 NVIDIA Corporation\n",
      "Built on Thu_Jun__6_02:18:23_PDT_2024\n",
      "Cuda compilation tools, release 12.5, V12.5.82\n",
      "Build cuda_12.5.r12.5/compiler.34385749_0\n"
     ]
    }
   ],
   "source": [
    "!nvidia-smi\n",
    "!nvcc --version"
   ]
  },
  {
   "cell_type": "code",
   "execution_count": 18,
   "metadata": {
    "collapsed": true,
    "execution": {
     "iopub.execute_input": "2025-08-12T15:14:05.298171Z",
     "iopub.status.busy": "2025-08-12T15:14:05.297909Z",
     "iopub.status.idle": "2025-08-12T15:14:05.496343Z",
     "shell.execute_reply": "2025-08-12T15:14:05.495800Z",
     "shell.execute_reply.started": "2025-08-12T15:14:05.298154Z"
    },
    "jupyter": {
     "outputs_hidden": true
    },
    "trusted": true
   },
   "outputs": [
    {
     "name": "stdout",
     "output_type": "stream",
     "text": [
      "Fixing symlinks in: /kaggle/working/tensorrt/lib\n",
      "  libnvonnxparser.so             -> libnvonnxparser.so.10.4.0\n",
      "  libnvonnxparser.so.10          -> libnvonnxparser.so.10.4.0\n",
      "  libnvinfer_lean.so             -> libnvinfer_lean.so.10.4.0\n",
      "  libnvinfer_lean.so.10          -> libnvinfer_lean.so.10.4.0\n",
      "  libnvinfer.so                  -> libnvinfer.so.10.4.0\n",
      "  libnvinfer.so.10               -> libnvinfer.so.10.4.0\n",
      "  libnvinfer_plugin.so           -> libnvinfer_plugin.so.10.4.0\n",
      "  libnvinfer_plugin.so.10        -> libnvinfer_plugin.so.10.4.0\n",
      "  libnvinfer_builder_resource.so -> libnvinfer_builder_resource.so.10.4.0\n",
      "  libnvinfer_builder_resource.so.10 -> libnvinfer_builder_resource.so.10.4.0\n",
      "  libnvinfer_vc_plugin.so        -> libnvinfer_vc_plugin.so.10.4.0\n",
      "  libnvinfer_vc_plugin.so.10     -> libnvinfer_vc_plugin.so.10.4.0\n",
      "  libnvinfer_builder_resource_win.so -> libnvinfer_builder_resource_win.so.10.4.0\n",
      "  libnvinfer_builder_resource_win.so.10 -> libnvinfer_builder_resource_win.so.10.4.0\n",
      "\n",
      "Done. To use these fixed libs in this session, run:\n",
      "  export LD_LIBRARY_PATH=\"/kaggle/working/tensorrt/lib:$LD_LIBRARY_PATH\"\n",
      "total 796\n",
      "-rw-r--r-- 1 root root   5039 Aug 12 14:54 NvInferConsistency.h\n",
      "-rw-r--r-- 1 root root   1371 Aug 12 14:54 NvInferConsistencyImpl.h\n",
      "-rw-r--r-- 1 root root 333640 Aug 12 14:54 NvInfer.h\n",
      "-rw-r--r-- 1 root root  53116 Aug 12 14:54 NvInferImpl.h\n",
      "-rw-r--r-- 1 root root   4010 Aug 12 14:54 NvInferLegacyDims.h\n",
      "-rw-r--r-- 1 root root   1540 Aug 12 14:54 NvInferPlugin.h\n",
      "-rw-r--r-- 1 root root  10152 Aug 12 14:54 NvInferPluginUtils.h\n",
      "-rw-r--r-- 1 root root  49331 Aug 12 14:54 NvInferRuntimeBase.h\n",
      "-rw-r--r-- 1 root root  12411 Aug 12 14:54 NvInferRuntimeCommon.h\n",
      "-rw-r--r-- 1 root root 196751 Aug 12 14:54 NvInferRuntime.h\n",
      "-rw-r--r-- 1 root root  47557 Aug 12 14:54 NvInferRuntimePlugin.h\n",
      "-rw-r--r-- 1 root root  40853 Aug 12 14:54 NvInferSafeRuntime.h\n",
      "-rw-r--r-- 1 root root   1642 Aug 12 14:54 NvInferVersion.h\n",
      "-rw-r--r-- 1 root root   5766 Aug 12 14:54 NvOnnxConfig.h\n",
      "-rw-r--r-- 1 root root  19227 Aug 12 14:54 NvOnnxParser.h\n",
      "total 6688396\n",
      "lrwxrwxrwx 1 root root         37 Aug 12 15:14 libnvinfer_builder_resource.so -> libnvinfer_builder_resource.so.10.4.0\n",
      "lrwxrwxrwx 1 root root         37 Aug 12 15:14 libnvinfer_builder_resource.so.10 -> libnvinfer_builder_resource.so.10.4.0\n",
      "-rw-r--r-- 1 root root 1432424520 Aug 12 14:53 libnvinfer_builder_resource.so.10.4.0\n",
      "lrwxrwxrwx 1 root root         41 Aug 12 15:14 libnvinfer_builder_resource_win.so -> libnvinfer_builder_resource_win.so.10.4.0\n",
      "lrwxrwxrwx 1 root root         41 Aug 12 15:14 libnvinfer_builder_resource_win.so.10 -> libnvinfer_builder_resource_win.so.10.4.0\n",
      "-rw-r--r-- 1 root root 1436480952 Aug 12 14:53 libnvinfer_builder_resource_win.so.10.4.0\n",
      "-rw-r--r-- 1 root root          0 Aug 12 14:52 libnvinfer_dispatch.so\n",
      "-rw-r--r-- 1 root root          0 Aug 12 14:52 libnvinfer_dispatch.so.10\n",
      "-rw-r--r-- 1 root root     992096 Aug 12 14:52 libnvinfer_dispatch.so.10.4.0\n",
      "-rw-r--r-- 1 root root     770120 Aug 12 14:52 libnvinfer_dispatch_static.a\n",
      "lrwxrwxrwx 1 root root         25 Aug 12 15:14 libnvinfer_lean.so -> libnvinfer_lean.so.10.4.0\n",
      "lrwxrwxrwx 1 root root         25 Aug 12 15:14 libnvinfer_lean.so.10 -> libnvinfer_lean.so.10.4.0\n",
      "-rw-r--r-- 1 root root   34768568 Aug 12 14:52 libnvinfer_lean.so.10.4.0\n",
      "-rw-r--r-- 1 root root  262158320 Aug 12 14:52 libnvinfer_lean_static.a\n",
      "lrwxrwxrwx 1 root root         27 Aug 12 15:14 libnvinfer_plugin.so -> libnvinfer_plugin.so.10.4.0\n",
      "lrwxrwxrwx 1 root root         27 Aug 12 15:14 libnvinfer_plugin.so.10 -> libnvinfer_plugin.so.10.4.0\n",
      "-rw-r--r-- 1 root root   34428064 Aug 12 14:52 libnvinfer_plugin.so.10.4.0\n",
      "-rw-r--r-- 1 root root   43129624 Aug 12 14:52 libnvinfer_plugin_static.a\n",
      "lrwxrwxrwx 1 root root         20 Aug 12 15:14 libnvinfer.so -> libnvinfer.so.10.4.0\n",
      "lrwxrwxrwx 1 root root         20 Aug 12 15:14 libnvinfer.so.10 -> libnvinfer.so.10.4.0\n",
      "-rw-r--r-- 1 root root  243871864 Aug 12 14:52 libnvinfer.so.10.4.0\n",
      "-rw-r--r-- 1 root root 3339635418 Aug 12 14:53 libnvinfer_static.a\n",
      "lrwxrwxrwx 1 root root         30 Aug 12 15:14 libnvinfer_vc_plugin.so -> libnvinfer_vc_plugin.so.10.4.0\n",
      "lrwxrwxrwx 1 root root         30 Aug 12 15:14 libnvinfer_vc_plugin.so.10 -> libnvinfer_vc_plugin.so.10.4.0\n",
      "-rw-r--r-- 1 root root    1120000 Aug 12 14:52 libnvinfer_vc_plugin.so.10.4.0\n",
      "-rw-r--r-- 1 root root     847264 Aug 12 14:52 libnvinfer_vc_plugin_static.a\n",
      "lrwxrwxrwx 1 root root         25 Aug 12 15:14 libnvonnxparser.so -> libnvonnxparser.so.10.4.0\n",
      "lrwxrwxrwx 1 root root         25 Aug 12 15:14 libnvonnxparser.so.10 -> libnvonnxparser.so.10.4.0\n",
      "-rw-r--r-- 1 root root    4009648 Aug 12 14:52 libnvonnxparser.so.10.4.0\n",
      "-rw-r--r-- 1 root root   13826384 Aug 12 14:52 libnvonnxparser_static.a\n",
      "-rw-r--r-- 1 root root     397196 Aug 12 14:52 libonnx_proto.a\n",
      "drwxr-xr-x 2 root root       4096 Aug 12 14:52 stubs\n"
     ]
    }
   ],
   "source": [
    "%%bash\n",
    "# ls -la /kaggle/input/tensorrt-10-4-0-26-cuda-12-6/TensorRT-10.4.0.26/include\n",
    "# ls -l /kaggle/input/tensorrt-10-4-0-26-cuda-12-6/TensorRT-10.4.0.26/targets/x86_64-linux-gnu/lib/\n",
    "# ls -l /usr/lib/x86_64-linux-gnu/libcud*\n",
    "\n",
    "# cp -r /kaggle/input/tensorrt-10-4-0-26-cuda-12-6/TensorRT-10.4.0.26/targets/x86_64-linux-gnu/lib build/lib\n",
    "# ls -l build/lib\n",
    "# bash scripts/fix_trt_symlinks.sh build/lib\n",
    "# ls -l build/lib\n",
    "# mkdir -p /kaggle/working/tensorrt/\n",
    "# cp -r /kaggle/input/tensorrt-10-4-0-26-cuda-12-6/TensorRT-10.4.0.26/include  /kaggle/working/tensorrt/include\n",
    "# mv build/lib /kaggle/working/tensorrt/lib\n",
    "\n",
    "bash scripts/fix_trt_symlinks.sh /kaggle/working/tensorrt/lib\n",
    "ls -l /kaggle/working/tensorrt/include\n",
    "ls -l /kaggle/working/tensorrt/lib"
   ]
  },
  {
   "cell_type": "code",
   "execution_count": 4,
   "metadata": {
    "execution": {
     "iopub.execute_input": "2025-08-12T15:09:15.397850Z",
     "iopub.status.busy": "2025-08-12T15:09:15.397571Z",
     "iopub.status.idle": "2025-08-12T15:09:15.756174Z",
     "shell.execute_reply": "2025-08-12T15:09:15.755570Z",
     "shell.execute_reply.started": "2025-08-12T15:09:15.397824Z"
    },
    "trusted": true
   },
   "outputs": [
    {
     "name": "stdout",
     "output_type": "stream",
     "text": [
      "Already up to date.\n"
     ]
    }
   ],
   "source": [
    "%%bash\n",
    "git fetch && git pull"
   ]
  },
  {
   "cell_type": "code",
   "execution_count": null,
   "metadata": {
    "_kg_hide-output": true,
    "collapsed": true,
    "execution": {
     "iopub.execute_input": "2025-08-12T15:13:36.136527Z",
     "iopub.status.busy": "2025-08-12T15:13:36.136224Z",
     "iopub.status.idle": "2025-08-12T15:13:44.823566Z",
     "shell.execute_reply": "2025-08-12T15:13:44.822805Z",
     "shell.execute_reply.started": "2025-08-12T15:13:36.136507Z"
    },
    "jupyter": {
     "outputs_hidden": true
    },
    "trusted": true
   },
   "outputs": [],
   "source": [
    "%%bash\n",
    "rm -rf build\n",
    "cmake -S . -B build -DCMAKE_BUILD_TYPE=Debug \\\n",
    "  -DTENSORRT_INCLUDE_DIRS=/kaggle/working/tensorrt/include \\\n",
    "  -DTENSORRT_LIBRARY_DIRS=/kaggle/working/tensorrt/lib\n",
    "cmake --build build -j --verbose -t simple_trt_test |& tail -n 200"
   ]
  },
  {
   "cell_type": "code",
   "execution_count": null,
   "metadata": {
    "collapsed": true,
    "execution": {
     "iopub.execute_input": "2025-08-12T15:14:42.943513Z",
     "iopub.status.busy": "2025-08-12T15:14:42.942807Z",
     "iopub.status.idle": "2025-08-12T15:14:55.165212Z",
     "shell.execute_reply": "2025-08-12T15:14:55.164261Z",
     "shell.execute_reply.started": "2025-08-12T15:14:42.943484Z"
    },
    "jupyter": {
     "outputs_hidden": true
    },
    "trusted": true
   },
   "outputs": [],
   "source": [
    "!cmake --build build -j"
   ]
  },
  {
   "cell_type": "code",
   "execution_count": null,
   "metadata": {
    "collapsed": true,
    "execution": {
     "iopub.execute_input": "2025-08-12T08:58:28.937658Z",
     "iopub.status.busy": "2025-08-12T08:58:28.937153Z",
     "iopub.status.idle": "2025-08-12T08:58:28.960650Z",
     "shell.execute_reply": "2025-08-12T08:58:28.959731Z",
     "shell.execute_reply.started": "2025-08-12T08:58:28.937632Z"
    },
    "jupyter": {
     "outputs_hidden": true
    },
    "trusted": true
   },
   "outputs": [],
   "source": [
    "# %%bash\n",
    "# echo \"libnvinfer_builder_resource.so.10.4.0\"\n",
    "# ldd /kaggle/working/AI-Infer-Acc/build/bin/libnvinfer_builder_resource.so.10.4.0\n",
    "# echo \"libnvinfer_plugin.so.10.4.0\"\n",
    "# ldd /kaggle/working/AI-Infer-Acc/build/bin/libnvinfer_plugin.so.10.4.0"
   ]
  },
  {
   "cell_type": "code",
   "execution_count": null,
   "metadata": {
    "collapsed": true,
    "execution": {
     "iopub.execute_input": "2025-08-12T11:05:56.565083Z",
     "iopub.status.busy": "2025-08-12T11:05:56.564808Z",
     "iopub.status.idle": "2025-08-12T11:06:07.966363Z",
     "shell.execute_reply": "2025-08-12T11:06:07.965655Z",
     "shell.execute_reply.started": "2025-08-12T11:05:56.565057Z"
    },
    "jupyter": {
     "outputs_hidden": true
    },
    "trusted": true
   },
   "outputs": [],
   "source": [
    "%%bash\n",
    "# cd /kaggle/working/AI-Infer-Acc\n",
    "# #python scripts/generate_onnx_model.py\n",
    "# python scripts/download_calibration_data.py\n",
    "\n",
    "# ls -la /kaggle/working/AI-Infer-Acc/models\n",
    "# ls -la /kaggle/working/AI-Infer-Acc/calibration_data\n",
    "\n",
    "\n",
    "# cd /kaggle/working/AI-Infer-Acc"
   ]
  },
  {
   "cell_type": "code",
   "execution_count": null,
   "metadata": {
    "collapsed": true,
    "execution": {
     "iopub.execute_input": "2025-08-12T11:12:35.105830Z",
     "iopub.status.busy": "2025-08-12T11:12:35.105485Z",
     "iopub.status.idle": "2025-08-12T11:13:10.509262Z",
     "shell.execute_reply": "2025-08-12T11:13:10.508588Z",
     "shell.execute_reply.started": "2025-08-12T11:12:35.105804Z"
    },
    "jupyter": {
     "outputs_hidden": true
    },
    "trusted": true
   },
   "outputs": [],
   "source": [
    "%%bash\n",
    "# ls -la build/bin\n",
    "# cd /kaggle/working/AI-Infer-Acc/build/bin\n",
    "cd /kaggle/working/AI-Infer-Acc\n",
    "export LD_LIBRARY_PATH=\"/kaggle/working/tensorrt/lib:${LD_LIBRARY_PATH}\"\n",
    "\n",
    "# ldd bin/simple_trt_test | cat   # 再看一眼依赖\n",
    "# build/bin/simple_trt_test\n",
    "# ldd libtrt_utils.so\n",
    "build/bin/onnx_to_trt models/resnet18.onnx models/resnet18 int8 /kaggle/working/AI-Infer-Acc/calibration_data\n",
    "\n",
    "cd /kaggle/working/AI-Infer-Acc"
   ]
  },
  {
   "cell_type": "code",
   "execution_count": 60,
   "metadata": {
    "collapsed": true,
    "execution": {
     "iopub.execute_input": "2025-08-12T12:14:26.932947Z",
     "iopub.status.busy": "2025-08-12T12:14:26.932091Z",
     "iopub.status.idle": "2025-08-12T12:14:33.773022Z",
     "shell.execute_reply": "2025-08-12T12:14:33.772426Z",
     "shell.execute_reply.started": "2025-08-12T12:14:26.932919Z"
    },
    "jupyter": {
     "outputs_hidden": true
    },
    "trusted": true
   },
   "outputs": [
    {
     "name": "stdout",
     "output_type": "stream",
     "text": [
      "Running inference in FP32 mode.\n",
      "Using Batch Size: 32\n",
      "\n",
      "--- Running Performance Test ---\n",
      "Number of iterations: 100\n",
      "\n",
      "--- Performance Results ---\n",
      "Total time for 100 inferences: 2536.33 ms\n",
      "Average Latency: 25.3633 ms\n",
      "Throughput: 1261.66 FPS (frames per second)\n",
      "---------------------------\n",
      "\n",
      "Displaying first 10 output values from the last run:\n",
      "-0.0391306 0.114466 -1.79676 -1.2343 -0.819005 0.323965 -2.1866 -1.28767 -1.90192 -0.73148 \n",
      "Running inference in FP16 mode.\n",
      "Using Batch Size: 32\n",
      "\n",
      "--- Running Performance Test ---\n",
      "Number of iterations: 100\n",
      "\n",
      "--- Performance Results ---\n",
      "Total time for 100 inferences: 861.688 ms\n",
      "Average Latency: 8.61688 ms\n",
      "Throughput: 3713.64 FPS (frames per second)\n",
      "---------------------------\n",
      "\n",
      "Displaying first 10 output values from the last run:\n",
      "-0.0232391 0.118225 -1.79688 -1.2334 -0.8125 0.344727 -2.18164 -1.28418 -1.90039 -0.731445 \n",
      "Running inference in INT8 mode.\n",
      "Using Batch Size: 32\n",
      "\n",
      "--- Running Performance Test ---\n",
      "Number of iterations: 100\n",
      "\n",
      "--- Performance Results ---\n",
      "Total time for 100 inferences: 421.845 ms\n",
      "Average Latency: 4.21845 ms\n",
      "Throughput: 7585.72 FPS (frames per second)\n",
      "---------------------------\n",
      "\n",
      "Displaying first 10 output values from the last run:\n",
      "0.327693 0.266699 -1.80451 -1.42337 -0.95784 0.592519 -2.20781 -1.2707 -1.6236 -0.607254 \n",
      "Running inference in INT8 mode.\n",
      "Using Batch Size: 32\n",
      "\n",
      "--- Running Performance Test ---\n",
      "Number of iterations: 100\n",
      "Using default stream in enqueueV3() may lead to performance issues due to additional calls to cudaStreamSynchronize() by TensorRT to ensure correct synchronization. Please use non-default stream instead.\n",
      "\n",
      "--- Performance Results ---\n",
      "Total time for 100 inferences: 422.76 ms\n",
      "Average Latency: 4.2276 ms\n",
      "Throughput: 7569.31 FPS (frames per second)\n",
      "---------------------------\n",
      "\n",
      "Displaying first 10 output values from the last run:\n",
      "0.327693 0.266699 -1.80451 -1.42337 -0.95784 0.592519 -2.20781 -1.2707 -1.6236 -0.607254 \n"
     ]
    }
   ],
   "source": [
    "%%bash\n",
    "cd /kaggle/working/AI-Infer-Acc\n",
    "export LD_LIBRARY_PATH=\"/kaggle/working/tensorrt/lib:${LD_LIBRARY_PATH}\"\n",
    "\n",
    "build/bin/trt_inference models/resnet18.trt 32 \n",
    "build/bin/trt_inference models/resnet18_fp16.trt 32 \n",
    "build/bin/trt_inference models/resnet18_int8.trt 32 \n",
    "build/bin/trt_inference models/resnet18_int8.trt 32 --use-default-stream\n",
    "\n",
    "cd /kaggle/working/AI-Infer-Acc"
   ]
  },
  {
   "cell_type": "code",
   "execution_count": 58,
   "metadata": {
    "execution": {
     "iopub.execute_input": "2025-08-12T12:11:56.332454Z",
     "iopub.status.busy": "2025-08-12T12:11:56.331833Z",
     "iopub.status.idle": "2025-08-12T12:12:00.976170Z",
     "shell.execute_reply": "2025-08-12T12:12:00.975457Z",
     "shell.execute_reply.started": "2025-08-12T12:11:56.332424Z"
    },
    "trusted": true
   },
   "outputs": [
    {
     "name": "stdout",
     "output_type": "stream",
     "text": [
      "trt_compare resnet18 vs resnet18_fp16\n",
      "Evaluating on 200 images (H=224, W=224)\n",
      "\n",
      "=== Accuracy Consistency Report ===\n",
      "Samples: 200\n",
      "Top-1 Agreement: 98%\n",
      "Top-5 Agreement: 100%\n",
      "Avg Cosine Similarity: 0.999991\n",
      "Avg L2 Distance: 0.327497\n",
      "trt_compare resnet18 vs resnet18_int8\n",
      "Evaluating on 200 images (H=224, W=224)\n",
      "\n",
      "=== Accuracy Consistency Report ===\n",
      "Samples: 200\n",
      "Top-1 Agreement: 89%\n",
      "Top-5 Agreement: 100%\n",
      "Avg Cosine Similarity: 0.997317\n",
      "Avg L2 Distance: 5.4276\n"
     ]
    }
   ],
   "source": [
    "%%bash\n",
    "cd /kaggle/working/AI-Infer-Acc\n",
    "export LD_LIBRARY_PATH=\"/kaggle/working/tensorrt/lib:${LD_LIBRARY_PATH}\"\n",
    "\n",
    "echo \"trt_compare resnet18 vs resnet18_fp16\"\n",
    "build/bin/trt_compare models/resnet18.trt models/resnet18_fp16.trt calibration_data 200\n",
    "\n",
    "echo \"trt_compare resnet18 vs resnet18_int8\"\n",
    "build/bin/trt_compare models/resnet18.trt models/resnet18_int8.trt calibration_data 200"
   ]
  },
  {
   "cell_type": "code",
   "execution_count": 10,
   "metadata": {
    "execution": {
     "iopub.execute_input": "2025-08-12T15:11:39.295354Z",
     "iopub.status.busy": "2025-08-12T15:11:39.295041Z",
     "iopub.status.idle": "2025-08-12T15:11:41.853172Z",
     "shell.execute_reply": "2025-08-12T15:11:41.852569Z",
     "shell.execute_reply.started": "2025-08-12T15:11:39.295313Z"
    },
    "trusted": true
   },
   "outputs": [
    {
     "name": "stdout",
     "output_type": "stream",
     "text": [
      "total 196\n",
      "-rw-r--r-- 1 root root  8005 Aug 12 14:53 AI_Inference_Acceleration_Plan.md\n",
      "drwxr-xr-x 6 root root  4096 Aug 12 14:53 apps\n",
      "drwxr-xr-x 2 root root  4096 Aug 12 15:09 assets\n",
      "drwxr-xr-x 7 root root  4096 Aug 12 15:09 build\n",
      "drwxr-xr-x 3 root root 20480 Aug 12 14:53 calibration_data\n",
      "-rw-r--r-- 1 root root  5822 Aug 12 14:53 CHANGELOG.md\n",
      "drwxr-xr-x 2 root root  4096 Aug 12 14:54 cmake\n",
      "-rw-r--r-- 1 root root 20159 Aug 12 14:53 CMakeLists.txt\n",
      "drwxr-xr-x 2 root root  4096 Aug 12 14:54 datasets\n",
      "drwxr-xr-x 3 root root  4096 Aug 12 14:54 examples\n",
      "-rw-r--r-- 1 root root 24363 Aug 12 15:10 imagenet_classes.tsv\n",
      "drwxr-xr-x 3 root root  4096 Aug 12 15:10 imagenet_val\n",
      "-rw-r--r-- 1 root root 33893 Aug 12 15:10 imagenet_val_labels.csv\n",
      "-rw-r--r-- 1 root root  2367 Aug 12 14:54 int8_calib_table.cache\n",
      "drwxr-xr-x 3 root root  4096 Aug 12 14:54 libs\n",
      "drwxr-xr-x 2 root root  4096 Aug 12 14:52 models\n",
      "drwxr-xr-x 3 root root  4096 Aug 12 14:54 projects\n",
      "-rw-r--r-- 1 root root 12835 Aug 12 15:09 README.md\n",
      "-rw-r--r-- 1 root root   175 Aug 12 14:54 requirements.txt\n",
      "drwxr-xr-x 2 root root  4096 Aug 12 15:09 scripts\n",
      "-rw-r--r-- 1 root root  3221 Aug 12 14:54 test_record.md\n",
      "-rw-r--r-- 1 root root  4198 Aug 12 14:53 TODO.md\n",
      "total 6589352\n",
      "-rw-r--r-- 1 root root    2568145 Aug 12 14:54 ILSVRC2012_devkit_t12.tar.gz\n",
      "-rw-r--r-- 1 root root 6744924160 Aug 12 14:53 ILSVRC2012_img_val.tar\n",
      "imagenet_val\n",
      "total 72\n",
      "drwxr-xr-x 645 root root 69632 Aug 12 15:10 val\n",
      "Extracting devkit...\n",
      "Parsed meta.mat synsets -> idx_to_wnid entries: 1000\n",
      "Extracting validation images (limit=1000)...\n",
      "Warning: files count and ground truth count differ:  1000 50000\n",
      "Generating labels CSV...\n",
      "Loaded imagenet_class_index.json from assets (/kaggle/working/AI-Infer-Acc/assets/imagenet_class_index.json) (classes=1000)\n",
      "Wrote labels CSV to /kaggle/working/AI-Infer-Acc/imagenet_val_labels.csv\n",
      "Wrote class name mapping to /kaggle/working/AI-Infer-Acc/imagenet_classes.tsv\n",
      "Wrote labels CSV to /kaggle/working/AI-Infer-Acc/imagenet_val_labels.csv\n",
      "Skipping folder reorg (not enabled; use --reorg).\n",
      "Removed temporary devkit directory: /kaggle/working/AI-Infer-Acc/imagenet_val/_devkit\n",
      "Done. You can run:\n",
      "  ./bin/trt_compare models/resnet18.trt models/resnet18_int8.trt /kaggle/working/AI-Infer-Acc/imagenet_val/val 200 --labels /kaggle/working/AI-Infer-Acc/imagenet_val_labels.csv\n"
     ]
    }
   ],
   "source": [
    "%%bash\n",
    "cd /kaggle/working/AI-Infer-Acc\n",
    "# rm -rf datasets\n",
    "# mkdir datasets\n",
    "# cd datasets\n",
    "# gdown 1hyU4n_KgOdUsgrG-4RcHqHs1iYRk_AKj # Your ID of ILSVRC2012_devkit_t12.tar.gz goes here\n",
    "# gdown 14bUC__FMj77FQhMNyuOsWbW3qFaa3OkO # Your ID of ILSVRC2012_img_val.tar goes here\n",
    "# cd ..\n",
    "# mv ILSVRC2012_devkit_t12.tar.gz datasets/\n",
    "# mv ILSVRC2012_img_val.tar datasets/\n",
    "ls -l .\n",
    "ls -l datasets\n",
    "echo \"imagenet_val\"\n",
    "ls -l imagenet_val/\n",
    "# rm -rf imagenet_val\n",
    "# mkdir -p imagenet_val/val\n",
    "python scripts/prepare_imagenet_val.py --limit 1000"
   ]
  },
  {
   "cell_type": "code",
   "execution_count": 14,
   "metadata": {
    "execution": {
     "iopub.execute_input": "2025-08-12T15:12:51.971617Z",
     "iopub.status.busy": "2025-08-12T15:12:51.970959Z",
     "iopub.status.idle": "2025-08-12T15:12:52.105918Z",
     "shell.execute_reply": "2025-08-12T15:12:52.104942Z",
     "shell.execute_reply.started": "2025-08-12T15:12:51.971588Z"
    },
    "trusted": true
   },
   "outputs": [
    {
     "name": "stdout",
     "output_type": "stream",
     "text": [
      "total 133320\n",
      "-rw-r--r-- 1 root root  109527 Jun 13  2012 ILSVRC2012_val_00000001.JPEG\n",
      "-rw-r--r-- 1 root root  140296 Jun 13  2012 ILSVRC2012_val_00000002.JPEG\n",
      "-rw-r--r-- 1 root root  122660 Jun 13  2012 ILSVRC2012_val_00000003.JPEG\n",
      "-rw-r--r-- 1 root root   84885 Jun 13  2012 ILSVRC2012_val_00000004.JPEG\n"
     ]
    }
   ],
   "source": [
    "! ls -l /kaggle/working/AI-Infer-Acc/imagenet_val/val |& head -n 5"
   ]
  },
  {
   "cell_type": "code",
   "execution_count": 22,
   "metadata": {
    "execution": {
     "iopub.execute_input": "2025-08-12T15:17:30.620204Z",
     "iopub.status.busy": "2025-08-12T15:17:30.619466Z",
     "iopub.status.idle": "2025-08-12T15:17:45.664681Z",
     "shell.execute_reply": "2025-08-12T15:17:45.663953Z",
     "shell.execute_reply.started": "2025-08-12T15:17:30.620178Z"
    },
    "trusted": true
   },
   "outputs": [
    {
     "name": "stdout",
     "output_type": "stream",
     "text": [
      "ILSVRC2012_val_00000001.JPEG\n",
      "ILSVRC2012_val_00000002.JPEG\n",
      "ILSVRC2012_val_00000003.JPEG\n",
      "ILSVRC2012_val_00000004.JPEG\n",
      "ILSVRC2012_val_00000005.JPEG\n",
      "ILSVRC2012_val_00000001.JPEG,65\n",
      "ILSVRC2012_val_00000002.JPEG,970\n",
      "ILSVRC2012_val_00000003.JPEG,230\n",
      "ILSVRC2012_val_00000004.JPEG,809\n",
      "ILSVRC2012_val_00000005.JPEG,516\n",
      "-----FP32 vs FP16-----\n",
      "Evaluating on 1000 images (H=224, W=224)\n",
      "Loaded labels from imagenet_val_labels.csv, entries: 1000\n",
      "Loaded class names: 1000\n",
      "[Inspect] ILSVRC2012_val_00000001.JPEG | FP32: 65:sea_snake | Test: 65:sea_snake | Top5(FP32): 65:sea_snake, 58:water_snake, 63:Indian_cobra, 62:rock_python, 54:hognose_snake | Top5(Test): 65:sea_snake, 58:water_snake, 63:Indian_cobra, 62:rock_python, 54:hognose_snake\n",
      "[Inspect] ILSVRC2012_val_00000002.JPEG | FP32: 795:ski | Test: 795:ski | Top5(FP32): 795:ski, 970:alp, 792:shovel, 537:dogsled, 672:mountain_tent | Top5(Test): 795:ski, 970:alp, 792:shovel, 537:dogsled, 802:snowmobile\n",
      "[Inspect] ILSVRC2012_val_00000003.JPEG | FP32: 230:Shetland_sheepdog | Test: 230:Shetland_sheepdog | Top5(FP32): 230:Shetland_sheepdog, 231:collie, 157:papillon, 169:borzoi, 232:Border_collie | Top5(Test): 230:Shetland_sheepdog, 231:collie, 157:papillon, 169:borzoi, 232:Border_collie\n",
      "[Inspect] ILSVRC2012_val_00000004.JPEG | FP32: 809:soup_bowl | Test: 809:soup_bowl | Top5(FP32): 809:soup_bowl, 659:mixing_bowl, 968:cup, 967:espresso, 666:mortar | Top5(Test): 809:soup_bowl, 659:mixing_bowl, 968:cup, 967:espresso, 666:mortar\n",
      "[Inspect] ILSVRC2012_val_00000005.JPEG | FP32: 520:crib | Test: 520:crib | Top5(FP32): 520:crib, 831:studio_couch, 516:cradle, 721:pillow, 750:quilt | Top5(Test): 520:crib, 831:studio_couch, 516:cradle, 721:pillow, 750:quilt\n",
      "[Inspect] ILSVRC2012_val_00000006.JPEG | FP32: 60:night_snake | Test: 60:night_snake | Top5(FP32): 60:night_snake, 65:sea_snake, 58:water_snake, 68:sidewinder, 67:diamondback | Top5(Test): 60:night_snake, 65:sea_snake, 58:water_snake, 68:sidewinder, 67:diamondback\n",
      "[Inspect] ILSVRC2012_val_00000007.JPEG | FP32: 334:porcupine | Test: 334:porcupine | Top5(FP32): 334:porcupine, 102:echidna, 337:beaver, 342:wild_boar, 341:hog | Top5(Test): 334:porcupine, 102:echidna, 337:beaver, 342:wild_boar, 341:hog\n",
      "[Inspect] ILSVRC2012_val_00000008.JPEG | FP32: 429:baseball | Test: 429:baseball | Top5(FP32): 429:baseball, 934:hotdog, 551:face_powder, 928:ice_cream, 502:clog | Top5(Test): 429:baseball, 934:hotdog, 551:face_powder, 928:ice_cream, 502:clog\n",
      "[Inspect] ILSVRC2012_val_00000009.JPEG | FP32: 674:mousetrap | Test: 674:mousetrap | Top5(FP32): 674:mousetrap, 341:hog, 342:wild_boar, 998:ear, 106:wombat | Top5(Test): 674:mousetrap, 341:hog, 342:wild_boar, 998:ear, 106:wombat\n",
      "[Inspect] ILSVRC2012_val_00000010.JPEG | FP32: 153:Maltese_dog | Test: 153:Maltese_dog | Top5(FP32): 153:Maltese_dog, 903:wig, 204:Lhasa, 332:Angora, 283:Persian_cat | Top5(Test): 153:Maltese_dog, 903:wig, 204:Lhasa, 332:Angora, 283:Persian_cat\n",
      "\n",
      "=== Accuracy Consistency Report ===\n",
      "Samples: 1000\n",
      "Top-1 Agreement: 99.7%\n",
      "Top-5 Agreement: 100%\n",
      "Avg Cosine Similarity: 0.999996\n",
      "Avg L2 Distance: 0.252854\n",
      "\n",
      "=== Labeled Accuracy Report ===\n",
      "Labeled Samples: 1000\n",
      "FP32 Top-1: 69%, Top-5: 88.8%\n",
      "Test Top-1: 68.9%, Top-5: 88.8%\n",
      "Delta Top-1: -0.1 pp, Delta Top-5: 0 pp\n",
      "-----FP32 vs INT8-----\n",
      "Evaluating on 1000 images (H=224, W=224)\n",
      "Loaded labels from imagenet_val_labels.csv, entries: 1000\n",
      "Loaded class names: 1000\n",
      "[Inspect] ILSVRC2012_val_00000001.JPEG | FP32: 65:sea_snake | Test: 58:water_snake | Top5(FP32): 65:sea_snake, 58:water_snake, 63:Indian_cobra, 62:rock_python, 54:hognose_snake | Top5(Test): 58:water_snake, 65:sea_snake, 50:American_alligator, 111:nematode, 49:African_crocodile\n",
      "[Inspect] ILSVRC2012_val_00000002.JPEG | FP32: 795:ski | Test: 795:ski | Top5(FP32): 795:ski, 970:alp, 792:shovel, 537:dogsled, 672:mountain_tent | Top5(Test): 795:ski, 970:alp, 802:snowmobile, 537:dogsled, 672:mountain_tent\n",
      "[Inspect] ILSVRC2012_val_00000003.JPEG | FP32: 230:Shetland_sheepdog | Test: 230:Shetland_sheepdog | Top5(FP32): 230:Shetland_sheepdog, 231:collie, 157:papillon, 169:borzoi, 232:Border_collie | Top5(Test): 230:Shetland_sheepdog, 231:collie, 157:papillon, 169:borzoi, 232:Border_collie\n",
      "[Inspect] ILSVRC2012_val_00000004.JPEG | FP32: 809:soup_bowl | Test: 809:soup_bowl | Top5(FP32): 809:soup_bowl, 659:mixing_bowl, 968:cup, 967:espresso, 666:mortar | Top5(Test): 809:soup_bowl, 968:cup, 659:mixing_bowl, 504:coffee_mug, 925:consomme\n",
      "[Inspect] ILSVRC2012_val_00000005.JPEG | FP32: 520:crib | Test: 520:crib | Top5(FP32): 520:crib, 831:studio_couch, 516:cradle, 721:pillow, 750:quilt | Top5(Test): 520:crib, 516:cradle, 431:bassinet, 831:studio_couch, 697:pajama\n",
      "[Inspect] ILSVRC2012_val_00000006.JPEG | FP32: 60:night_snake | Test: 58:water_snake | Top5(FP32): 60:night_snake, 65:sea_snake, 58:water_snake, 68:sidewinder, 67:diamondback | Top5(Test): 58:water_snake, 65:sea_snake, 60:night_snake, 68:sidewinder, 52:thunder_snake\n",
      "[Inspect] ILSVRC2012_val_00000007.JPEG | FP32: 334:porcupine | Test: 49:African_crocodile | Top5(FP32): 334:porcupine, 102:echidna, 337:beaver, 342:wild_boar, 341:hog | Top5(Test): 49:African_crocodile, 48:Komodo_dragon, 334:porcupine, 50:American_alligator, 377:marmoset\n",
      "[Inspect] ILSVRC2012_val_00000008.JPEG | FP32: 429:baseball | Test: 429:baseball | Top5(FP32): 429:baseball, 934:hotdog, 551:face_powder, 928:ice_cream, 502:clog | Top5(Test): 429:baseball, 809:soup_bowl, 659:mixing_bowl, 631:lotion, 551:face_powder\n",
      "[Inspect] ILSVRC2012_val_00000009.JPEG | FP32: 674:mousetrap | Test: 341:hog | Top5(FP32): 674:mousetrap, 341:hog, 342:wild_boar, 998:ear, 106:wombat | Top5(Test): 341:hog, 674:mousetrap, 338:guinea_pig, 448:birdhouse, 342:wild_boar\n",
      "[Inspect] ILSVRC2012_val_00000010.JPEG | FP32: 153:Maltese_dog | Test: 903:wig | Top5(FP32): 153:Maltese_dog, 903:wig, 204:Lhasa, 332:Angora, 283:Persian_cat | Top5(Test): 903:wig, 283:Persian_cat, 153:Maltese_dog, 204:Lhasa, 374:langur\n",
      "\n",
      "=== Accuracy Consistency Report ===\n",
      "Samples: 1000\n",
      "Top-1 Agreement: 62.1%\n",
      "Top-5 Agreement: 95.1%\n",
      "Avg Cosine Similarity: 0.849407\n",
      "Avg L2 Distance: 45.0939\n",
      "\n",
      "=== Labeled Accuracy Report ===\n",
      "Labeled Samples: 1000\n",
      "FP32 Top-1: 69%, Top-5: 88.8%\n",
      "Test Top-1: 53.1%, Top-5: 77.5%\n",
      "Delta Top-1: -15.9 pp, Delta Top-5: -11.3 pp\n"
     ]
    }
   ],
   "source": [
    "%%bash\n",
    "cd /kaggle/working/AI-Infer-Acc\n",
    "export LD_LIBRARY_PATH=\"/kaggle/working/tensorrt/lib:${LD_LIBRARY_PATH}\"\n",
    "\n",
    "ls /kaggle/working/AI-Infer-Acc/imagenet_val/val |& head -n 5\n",
    "head -n 5 imagenet_val_labels.csv\n",
    "echo \"-----FP32 vs FP16-----\"\n",
    "build/bin/trt_compare models/resnet18.trt models/resnet18_fp16.trt imagenet_val/val 1000 --labels imagenet_val_labels.csv --class-names imagenet_classes.tsv --inspect 10 --center-crop --imagenet-norm\n",
    "\n",
    "echo \"-----FP32 vs INT8-----\"\n",
    "build/bin/trt_compare models/resnet18.trt models/resnet18_int8.trt imagenet_val/val 1000 --labels imagenet_val_labels.csv --class-names imagenet_classes.tsv --inspect 10 --center-crop --imagenet-norm\n",
    "\n",
    "# ls /kaggle/working/AI-Infer-Acc/imagenet_val/"
   ]
  },
  {
   "cell_type": "code",
   "execution_count": 1,
   "metadata": {
    "execution": {
     "iopub.execute_input": "2025-08-12T15:28:35.409209Z",
     "iopub.status.busy": "2025-08-12T15:28:35.408910Z",
     "iopub.status.idle": "2025-08-12T15:28:35.540705Z",
     "shell.execute_reply": "2025-08-12T15:28:35.539791Z",
     "shell.execute_reply.started": "2025-08-12T15:28:35.409167Z"
    },
    "trusted": true
   },
   "outputs": [
    {
     "name": "stdout",
     "output_type": "stream",
     "text": [
      "head: cannot open 'imagenet_classes.tsv' for reading: No such file or directory\n"
     ]
    }
   ],
   "source": [
    "! head -n 10  imagenet_classes.tsv"
   ]
  },
  {
   "cell_type": "code",
   "execution_count": 38,
   "metadata": {
    "execution": {
     "iopub.execute_input": "2025-08-11T08:55:26.078452Z",
     "iopub.status.busy": "2025-08-11T08:55:26.077831Z",
     "iopub.status.idle": "2025-08-11T08:55:27.249404Z",
     "shell.execute_reply": "2025-08-11T08:55:27.248616Z",
     "shell.execute_reply.started": "2025-08-11T08:55:26.078420Z"
    },
    "trusted": true
   },
   "outputs": [
    {
     "name": "stdout",
     "output_type": "stream",
     "text": [
      "Found existing installation: nvidia-tensorrt 99.0.0\n",
      "Uninstalling nvidia-tensorrt-99.0.0:\n",
      "  Successfully uninstalled nvidia-tensorrt-99.0.0\n"
     ]
    }
   ],
   "source": [
    "# !pip uninstall nvidia-pyindex\n",
    "# !pip uninstall -y nvidia-tensorrt"
   ]
  }
 ],
 "metadata": {
  "kaggle": {
   "accelerator": "nvidiaTeslaT4",
   "dataSources": [
    {
     "datasetId": 8050837,
     "sourceId": 12736529,
     "sourceType": "datasetVersion"
    }
   ],
   "dockerImageVersionId": 31090,
   "isGpuEnabled": true,
   "isInternetEnabled": true,
   "language": "python",
   "sourceType": "notebook"
  },
  "kernelspec": {
   "display_name": "Python 3",
   "language": "python",
   "name": "python3"
  },
  "language_info": {
   "codemirror_mode": {
    "name": "ipython",
    "version": 3
   },
   "file_extension": ".py",
   "mimetype": "text/x-python",
   "name": "python",
   "nbconvert_exporter": "python",
   "pygments_lexer": "ipython3",
   "version": "3.11.13"
  }
 },
 "nbformat": 4,
 "nbformat_minor": 4
}
